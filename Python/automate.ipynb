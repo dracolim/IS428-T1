{
 "cells": [
  {
   "cell_type": "markdown",
   "metadata": {},
   "source": [
    "Produce data for DEMO-MAP "
   ]
  },
  {
   "cell_type": "code",
   "execution_count": 15,
   "metadata": {},
   "outputs": [],
   "source": [
    "import pandas as pd "
   ]
  },
  {
   "cell_type": "code",
   "execution_count": 1,
   "metadata": {},
   "outputs": [
    {
     "data": {
      "text/plain": [
       "'state_frequency.csv'"
      ]
     },
     "execution_count": 1,
     "metadata": {},
     "output_type": "execute_result"
    }
   ],
   "source": [
    "data = pd.read_csv(\"./Data/cleaned_data.csv\")\n",
    "\n",
    "# Count the frequency of respondents for each state\n",
    "state_counts = data['what us state or territory do you work in?'].value_counts().reset_index()\n",
    "\n",
    "# Rename the columns\n",
    "state_counts.columns = ['state', 'value']\n",
    "\n",
    "# Save the result to a new CSV file\n",
    "output_file_path = 'state_frequency.csv'\n",
    "state_counts.to_csv(output_file_path, index=False)\n",
    "\n",
    "# Output the path where the file is saved\n",
    "output_file_path\n"
   ]
  },
  {
   "cell_type": "markdown",
   "metadata": {},
   "source": [
    "Produce data for GENDER-BAR"
   ]
  },
  {
   "cell_type": "code",
   "execution_count": 6,
   "metadata": {},
   "outputs": [
    {
     "name": "stderr",
     "output_type": "stream",
     "text": [
      "/var/folders/wj/2g7sdmm15x9g0fx83cczwbr00000gn/T/ipykernel_62777/1412391250.py:8: SettingWithCopyWarning: \n",
      "A value is trying to be set on a copy of a slice from a DataFrame.\n",
      "Try using .loc[row_indexer,col_indexer] = value instead\n",
      "\n",
      "See the caveats in the documentation: https://pandas.pydata.org/pandas-docs/stable/user_guide/indexing.html#returning-a-view-versus-a-copy\n",
      "  tech_company_respondents['what is your gender?'] = tech_company_respondents['what is your gender?'].map(gender_map)\n"
     ]
    },
    {
     "data": {
      "text/plain": [
       "'gender_frequency_tech.csv'"
      ]
     },
     "execution_count": 6,
     "metadata": {},
     "output_type": "execute_result"
    }
   ],
   "source": [
    "file_path = './Data/cleaned_data.csv'\n",
    "\n",
    "data = pd.read_csv(file_path)\n",
    "\n",
    "tech_company_respondents = data[data[\"is your employer primarily a tech company/organization?\"] == 1]\n",
    "\n",
    "gender_map = {1.0: \"Male\", 2.0: \"Female\", 3.0: \"Non-Binary\"}\n",
    "tech_company_respondents['what is your gender?'] = tech_company_respondents['what is your gender?'].map(gender_map)\n",
    "\n",
    "# Count the frequency of respondents for each gender\n",
    "gender_counts = tech_company_respondents['what is your gender?'].value_counts().reset_index()\n",
    "\n",
    "gender_counts.columns = ['Gender', 'Value']\n",
    "\n",
    "output_file_path = 'gender_frequency_tech.csv'\n",
    "gender_counts.to_csv(output_file_path, index=False)\n",
    "\n",
    "# Output the path where the file is saved\n",
    "output_file_path"
   ]
  },
  {
   "cell_type": "markdown",
   "metadata": {},
   "source": [
    "Produce data for AGE-BAR"
   ]
  },
  {
   "cell_type": "code",
   "execution_count": 12,
   "metadata": {},
   "outputs": [
    {
     "data": {
      "text/plain": [
       "'age_gender_tech.csv'"
      ]
     },
     "execution_count": 12,
     "metadata": {},
     "output_type": "execute_result"
    }
   ],
   "source": [
    "# Load the dataset\n",
    "data = pd.read_csv('./Data/cleaned_data.csv')\n",
    "data.rename(columns={'what is your age?': 'Age'}, inplace=True)\n",
    "\n",
    "tech_data = data[data[\"is your employer primarily a tech company/organization?\"] == 1]\n",
    "\n",
    "# Function to group ages\n",
    "def group_age(age):\n",
    "    if age <= 20:\n",
    "        return \"0-20\"\n",
    "    elif age <= 30:\n",
    "        return \"21-30\"\n",
    "    elif age <= 40:\n",
    "        return \"31-40\"\n",
    "    elif age <= 50:\n",
    "        return \"41-50\"\n",
    "    elif age <= 60:\n",
    "        return \"51-60\"\n",
    "    elif age <= 70:\n",
    "        return \"61-70\"\n",
    "    elif age <= 80:\n",
    "        return \"71-80\"\n",
    "    elif age <= 90:\n",
    "        return \"81-90\"\n",
    "    else:\n",
    "        return \"91-100\"\n",
    "\n",
    "# Group by age and count frequency for each gender within each age group\n",
    "age_grouped = tech_data.groupby(['Age', 'what is your gender?']).size().unstack(fill_value=0)\n",
    "\n",
    "# Map the 'what is your age?' using the 'group_age' function\n",
    "age_grouped.index = age_grouped.index.map(group_age)\n",
    "\n",
    "# Combine rows by the new age groups\n",
    "age_grouped = age_grouped.groupby(level=0).sum()\n",
    "\n",
    "# Rename the columns as required\n",
    "age_grouped.columns = ['Male', 'Female', 'Non-Binary']\n",
    "\n",
    "# Reset the index to turn the age groups into a column\n",
    "age_grouped.reset_index(inplace=True)\n",
    "\n",
    "# Save the result to a new CSV file\n",
    "output_file_path = 'age_gender_tech.csv'\n",
    "age_grouped.to_csv(output_file_path, index=False)\n",
    "\n",
    "output_file_path\n"
   ]
  },
  {
   "cell_type": "markdown",
   "metadata": {},
   "source": [
    "Produce data for CURRENT MENTAL HEALTH IN TECH"
   ]
  },
  {
   "cell_type": "code",
   "execution_count": 6,
   "metadata": {},
   "outputs": [
    {
     "name": "stderr",
     "output_type": "stream",
     "text": [
      "/var/folders/wj/2g7sdmm15x9g0fx83cczwbr00000gn/T/ipykernel_82625/31917450.py:19: FutureWarning: Dropping of nuisance columns in DataFrame reductions (with 'numeric_only=None') is deprecated; in a future version this will raise TypeError.  Select only valid columns before calling the reduction.\n",
      "  country_mental_health['Total'] = country_mental_health.sum(axis=1)\n"
     ]
    },
    {
     "data": {
      "text/plain": [
       "'current_mental_health.csv'"
      ]
     },
     "execution_count": 6,
     "metadata": {},
     "output_type": "execute_result"
    }
   ],
   "source": [
    "data = pd.read_csv('./Data/cleaned_data.csv')\n",
    "\n",
    "# Filter out respondents that are not from tech companies\n",
    "tech_data = data[data[\"is your employer primarily a tech company/organization?\"] == 1]\n",
    "\n",
    "country_mental_health = tech_data.groupby(['what country do you work in?', 'do you currently have a mental health disorder?']).size().unstack(fill_value=0)\n",
    "\n",
    "for response in ['Yes', 'No']:\n",
    "    if response not in country_mental_health.columns:\n",
    "        country_mental_health[response] = 0\n",
    "\n",
    "# Rename index to 'Country'\n",
    "country_mental_health.index.rename('Country', inplace=True)\n",
    "\n",
    "# Reset index to turn the 'Country' index into a column\n",
    "country_mental_health.reset_index(inplace=True)\n",
    "\n",
    "# Calculate the total frequency for each country and sort by this total\n",
    "country_mental_health['Total'] = country_mental_health.sum(axis=1)\n",
    "sorted_country_mental_health = country_mental_health.sort_values(by='Total', ascending=False)\n",
    "\n",
    "# Take the top 10 countries based on total frequency\n",
    "top_countries = sorted_country_mental_health.head(6)\n",
    "\n",
    "# Select only the desired columns to match the specified format\n",
    "top_countries = top_countries[['Country', 'Yes', 'No']]\n",
    "\n",
    "# Save the result to a CSV file\n",
    "output_filename = 'current_mental_health.csv'\n",
    "top_countries.to_csv(output_filename, index=False)\n",
    "\n",
    "output_filename"
   ]
  },
  {
   "cell_type": "markdown",
   "metadata": {},
   "source": [
    "Produce data for PAST MENTAL HEALTH IN TECH"
   ]
  },
  {
   "cell_type": "code",
   "execution_count": 3,
   "metadata": {},
   "outputs": [
    {
     "name": "stderr",
     "output_type": "stream",
     "text": [
      "/var/folders/wj/2g7sdmm15x9g0fx83cczwbr00000gn/T/ipykernel_84430/2421972952.py:19: FutureWarning: Dropping of nuisance columns in DataFrame reductions (with 'numeric_only=None') is deprecated; in a future version this will raise TypeError.  Select only valid columns before calling the reduction.\n",
      "  country_mental_health['Total'] = country_mental_health.sum(axis=1)\n"
     ]
    },
    {
     "data": {
      "text/plain": [
       "'past_mental_health.csv'"
      ]
     },
     "execution_count": 3,
     "metadata": {},
     "output_type": "execute_result"
    }
   ],
   "source": [
    "data = pd.read_csv('./Data/cleaned_data.csv')\n",
    "\n",
    "# Filter out respondents that are not from tech companies\n",
    "tech_data = data[data[\"is your employer primarily a tech company/organization?\"] == 1]\n",
    "\n",
    "country_mental_health = tech_data.groupby(['what country do you work in?', 'have you had a mental health disorder in the past?']).size().unstack(fill_value=0)\n",
    "\n",
    "for response in ['Yes', 'No']:\n",
    "    if response not in country_mental_health.columns:\n",
    "        country_mental_health[response] = 0\n",
    "\n",
    "# Rename index to 'Country'\n",
    "country_mental_health.index.rename('Country', inplace=True)\n",
    "\n",
    "# Reset index to turn the 'Country' index into a column\n",
    "country_mental_health.reset_index(inplace=True)\n",
    "\n",
    "# Calculate the total frequency for each country and sort by this total\n",
    "country_mental_health['Total'] = country_mental_health.sum(axis=1)\n",
    "sorted_country_mental_health = country_mental_health.sort_values(by='Total', ascending=False)\n",
    "\n",
    "# Take the top 10 countries based on total frequency\n",
    "top_countries = sorted_country_mental_health.head(6)\n",
    "\n",
    "# Select only the desired columns to match the specified format\n",
    "top_countries = top_countries[['Country', 'Yes', 'No']]\n",
    "\n",
    "# Save the result to a CSV file\n",
    "output_filename = 'past_mental_health.csv'\n",
    "top_countries.to_csv(output_filename, index=False)\n",
    "\n",
    "output_filename"
   ]
  },
  {
   "cell_type": "markdown",
   "metadata": {},
   "source": [
    "data for CURRENT MENTAL HEALTH IN TECH (Pie Chart)"
   ]
  },
  {
   "cell_type": "code",
   "execution_count": 5,
   "metadata": {},
   "outputs": [],
   "source": [
    "data = pd.read_csv('./Data/cleaned_data.csv')\n",
    "\n",
    "# Calculate the frequency of responses to the mental health question\n",
    "mental_health_counts = data[\"do you currently have a mental health disorder?\"].value_counts()\n",
    "\n",
    "# Prepare the data in the desired format\n",
    "output_data = {\n",
    "    'Yes': mental_health_counts.get('Yes', 0),\n",
    "    'No': mental_health_counts.get('No', 0)\n",
    "}\n",
    "\n",
    "# Convert to DataFrame\n",
    "output_df = pd.DataFrame([output_data])\n",
    "\n",
    "# Save to CSV\n",
    "output_df.to_csv('mental_health_current_counts.csv', index=False)"
   ]
  },
  {
   "cell_type": "markdown",
   "metadata": {},
   "source": [
    "data for PAST MENTAL HEALTH IN TECH (Pie Chart)"
   ]
  },
  {
   "cell_type": "code",
   "execution_count": 6,
   "metadata": {},
   "outputs": [],
   "source": [
    "df = pd.read_csv('/mnt/data/cleaned_data.csv')\n",
    "\n",
    "# Ensure the year column is of integer type for filtering\n",
    "df['Year'] = df['Year'].astype(int)\n",
    "\n",
    "# Filter the dataframe for years 2017 to 2022 and responses \"Yes\" or \"Maybe\"\n",
    "filtered_df = df[(df['Year'] >= 2017) & (df['Year'] <= 2022) & \n",
    "                 (df['Do you currently have a mental health disorder?'].isin(['Yes', 'Maybe']))]\n",
    "\n",
    "# Group by the 'Year' column and count the number of respondents for each year\n",
    "grouped_df = filtered_df.groupby('Year').size().reset_index(name='Number of Respondents')\n",
    "\n",
    "# Export the result to a new CSV file\n",
    "output_path = '/mnt/data/mental_health_responses_2017_to_2022.csv'\n",
    "grouped_df.to_csv(output_path, index=False)\n",
    "\n",
    "output_path"
   ]
  },
  {
   "cell_type": "markdown",
   "metadata": {},
   "source": [
    "Get more info"
   ]
  },
  {
   "cell_type": "code",
   "execution_count": 21,
   "metadata": {},
   "outputs": [
    {
     "data": {
      "text/plain": [
       "'mental_health_responses_percentage_2017_to_2022.csv'"
      ]
     },
     "execution_count": 21,
     "metadata": {},
     "output_type": "execute_result"
    }
   ],
   "source": [
    "import pandas as pd\n",
    "\n",
    "# Load the cleaned data\n",
    "df = pd.read_csv('./Data/cleaned_data.csv')\n",
    "\n",
    "# Ensure the year column is of integer type for filtering\n",
    "df['Year'] = df['Year'].astype(int)\n",
    "\n",
    "# Filter the dataframe for years 2017 to 2022\n",
    "years_filtered_df = df[(df['Year'] >= 2017) & (df['Year'] <= 2022)]\n",
    "\n",
    "# Calculate total respondents per year\n",
    "total_respondents_per_year = years_filtered_df.groupby('Year').size().reset_index(name='Total Respondents')\n",
    "\n",
    "# Filter for \"Yes\" responses for years 2017 to 2022\n",
    "yes_responses = years_filtered_df[\n",
    "    years_filtered_df['do you currently have a mental health disorder?'].isin(['Yes'])\n",
    "]\n",
    "\n",
    "# Group by 'Year' column and count the number of \"Yes\" responses for each year\n",
    "yes_responses_per_year = yes_responses.groupby('Year').size().reset_index(name='Number of Yes Responses')\n",
    "\n",
    "# Merge the total respondents and \"Yes\" responses dataframes on 'Year'\n",
    "merged_df = pd.merge(total_respondents_per_year, yes_responses_per_year, on='Year')\n",
    "\n",
    "# Calculate the percentage of \"Yes\" responses out of the total responses for each year\n",
    "merged_df['Percentage of Yes Responses'] = round((merged_df['Number of Yes Responses'] / merged_df['Total Respondents']) * 100 , 2)\n",
    "\n",
    "# Selecting only the required columns and renaming for clarity\n",
    "final_df = merged_df[['Year', 'Number of Yes Responses', 'Percentage of Yes Responses']]\n",
    "\n",
    "# Export the result to a new CSV file\n",
    "output_path = 'mental_health_responses_percentage_2017_to_2022.csv'\n",
    "final_df.to_csv(output_path, index=False)\n",
    "\n",
    "output_path\n"
   ]
  },
  {
   "cell_type": "code",
   "execution_count": 40,
   "metadata": {},
   "outputs": [
    {
     "name": "stdout",
     "output_type": "stream",
     "text": [
      "JSON output saved to sunburst_data_2017_to_2022.json\n"
     ]
    }
   ],
   "source": [
    "import pandas as pd\n",
    "import json\n",
    "\n",
    "# Assuming the CSV is loaded into 'df'\n",
    "# Replace './Data/cleaned_data.csv' with the correct path to your CSV file\n",
    "df = pd.read_csv('./Data/cleaned_data.csv')\n",
    "\n",
    "# Mapping for gender values\n",
    "gender_mapping = {1.0: \"Male\", 2.0: \"Female\", 3.0: \"Non-Binary\"}\n",
    "\n",
    "# Set the specific range of years you're interested in\n",
    "years_range = range(2017, 2023)  # From 2017 to 2022 inclusive\n",
    "\n",
    "# Initialize the data structure with all counts set to 0 for the range of years\n",
    "data_structure = {\n",
    "    \"Skills\": {\n",
    "        \"Family History\": {},\n",
    "        \"No Family History\": {}\n",
    "    }\n",
    "}\n",
    "\n",
    "for family_status in [\"Family History\", \"No Family History\"]:\n",
    "    for gender in gender_mapping.values():\n",
    "        data_structure[\"Skills\"][family_status][gender] = {\"Yes\": {}, \"No\": {}, \"Maybe\": {}}\n",
    "        for response in [\"Yes\", \"No\", \"Maybe\"]:\n",
    "            # Initialize all specified years with 0 count\n",
    "            data_structure[\"Skills\"][family_status][gender][response] = {year: 0 for year in years_range}\n",
    "\n",
    "# Filter the DataFrame to only include rows from 2017 to 2022\n",
    "df_filtered = df[df['Year'].isin(years_range)]\n",
    "\n",
    "# Count the actual occurrences within the filtered data\n",
    "grouped = df_filtered.groupby([\n",
    "    \"do you have a family history of mental illness?\",\n",
    "    \"what is your gender?\",\n",
    "    \"would you feel comfortable discussing a mental health issue with your coworkers?\",\n",
    "    \"Year\"\n",
    "])\n",
    "\n",
    "for (family_history, gender_code, willingness, year), group in grouped:\n",
    "    gender = gender_mapping.get(gender_code, \"Other\")  # Use \"Other\" if the gender code isn't in the mapping\n",
    "    key = \"Family History\" if family_history == \"Yes\" else \"No Family History\"\n",
    "    \n",
    "    # Update counts based on filtered data\n",
    "    data_structure[\"Skills\"][key][gender][willingness][year] += len(group)\n",
    "\n",
    "# Convert the counts from dict to list to maintain order\n",
    "for family_status, genders in data_structure[\"Skills\"].items():\n",
    "    for gender, willingness_types in genders.items():\n",
    "        for willingness, year_counts in willingness_types.items():\n",
    "            year_list = [year_counts[year] for year in years_range]\n",
    "            data_structure[\"Skills\"][family_status][gender][willingness] = year_list\n",
    "\n",
    "# Save the JSON output\n",
    "output_path = 'sunburst_data_2017_to_2022.json'\n",
    "with open(output_path, 'w') as json_file:\n",
    "    json.dump(data_structure, json_file, indent=4)\n",
    "\n",
    "print(f\"JSON output saved to {output_path}\")\n"
   ]
  }
 ],
 "metadata": {
  "kernelspec": {
   "display_name": "Python 3.9 (tensorflow)",
   "language": "python",
   "name": "tensorflow"
  },
  "language_info": {
   "codemirror_mode": {
    "name": "ipython",
    "version": 3
   },
   "file_extension": ".py",
   "mimetype": "text/x-python",
   "name": "python",
   "nbconvert_exporter": "python",
   "pygments_lexer": "ipython3",
   "version": "3.10.13"
  }
 },
 "nbformat": 4,
 "nbformat_minor": 2
}
