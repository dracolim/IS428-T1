{
 "cells": [
  {
   "cell_type": "code",
   "execution_count": 1,
   "metadata": {},
   "outputs": [
    {
     "data": {
      "text/plain": [
       "'state_frequency.csv'"
      ]
     },
     "execution_count": 1,
     "metadata": {},
     "output_type": "execute_result"
    }
   ],
   "source": [
    "import pandas as pd \n",
    "\n",
    "data = pd.read_csv(\"./Data/cleaned_data.csv\")\n",
    "\n",
    "# Count the frequency of respondents for each state\n",
    "state_counts = data['what us state or territory do you work in?'].value_counts().reset_index()\n",
    "\n",
    "# Rename the columns\n",
    "state_counts.columns = ['state', 'value']\n",
    "\n",
    "# Save the result to a new CSV file\n",
    "output_file_path = 'state_frequency.csv'\n",
    "state_counts.to_csv(output_file_path, index=False)\n",
    "\n",
    "# Output the path where the file is saved\n",
    "output_file_path\n"
   ]
  },
  {
   "cell_type": "code",
   "execution_count": null,
   "metadata": {},
   "outputs": [],
   "source": []
  }
 ],
 "metadata": {
  "kernelspec": {
   "display_name": "Python 3.9 (tensorflow)",
   "language": "python",
   "name": "tensorflow"
  },
  "language_info": {
   "codemirror_mode": {
    "name": "ipython",
    "version": 3
   },
   "file_extension": ".py",
   "mimetype": "text/x-python",
   "name": "python",
   "nbconvert_exporter": "python",
   "pygments_lexer": "ipython3",
   "version": "3.10.13"
  }
 },
 "nbformat": 4,
 "nbformat_minor": 2
}
