{
 "cells": [
  {
   "cell_type": "markdown",
   "metadata": {},
   "source": [
    "Produce data for DEMO-MAP "
   ]
  },
  {
   "cell_type": "code",
   "execution_count": 2,
   "metadata": {},
   "outputs": [],
   "source": [
    "import pandas as pd "
   ]
  },
  {
   "cell_type": "code",
   "execution_count": 1,
   "metadata": {},
   "outputs": [
    {
     "data": {
      "text/plain": [
       "'state_frequency.csv'"
      ]
     },
     "execution_count": 1,
     "metadata": {},
     "output_type": "execute_result"
    }
   ],
   "source": [
    "data = pd.read_csv(\"./Data/cleaned_data.csv\")\n",
    "\n",
    "# Count the frequency of respondents for each state\n",
    "state_counts = data['what us state or territory do you work in?'].value_counts().reset_index()\n",
    "\n",
    "# Rename the columns\n",
    "state_counts.columns = ['state', 'value']\n",
    "\n",
    "# Save the result to a new CSV file\n",
    "output_file_path = 'state_frequency.csv'\n",
    "state_counts.to_csv(output_file_path, index=False)\n",
    "\n",
    "# Output the path where the file is saved\n",
    "output_file_path\n"
   ]
  },
  {
   "cell_type": "markdown",
   "metadata": {},
   "source": [
    "Produce data for GENDER-BAR"
   ]
  },
  {
   "cell_type": "code",
   "execution_count": 6,
   "metadata": {},
   "outputs": [
    {
     "name": "stderr",
     "output_type": "stream",
     "text": [
      "/var/folders/wj/2g7sdmm15x9g0fx83cczwbr00000gn/T/ipykernel_62777/1412391250.py:8: SettingWithCopyWarning: \n",
      "A value is trying to be set on a copy of a slice from a DataFrame.\n",
      "Try using .loc[row_indexer,col_indexer] = value instead\n",
      "\n",
      "See the caveats in the documentation: https://pandas.pydata.org/pandas-docs/stable/user_guide/indexing.html#returning-a-view-versus-a-copy\n",
      "  tech_company_respondents['what is your gender?'] = tech_company_respondents['what is your gender?'].map(gender_map)\n"
     ]
    },
    {
     "data": {
      "text/plain": [
       "'gender_frequency_tech.csv'"
      ]
     },
     "execution_count": 6,
     "metadata": {},
     "output_type": "execute_result"
    }
   ],
   "source": [
    "file_path = './Data/cleaned_data.csv'\n",
    "\n",
    "data = pd.read_csv(file_path)\n",
    "\n",
    "tech_company_respondents = data[data[\"is your employer primarily a tech company/organization?\"] == 1]\n",
    "\n",
    "gender_map = {1.0: \"Male\", 2.0: \"Female\", 3.0: \"Non-Binary\"}\n",
    "tech_company_respondents['what is your gender?'] = tech_company_respondents['what is your gender?'].map(gender_map)\n",
    "\n",
    "# Count the frequency of respondents for each gender\n",
    "gender_counts = tech_company_respondents['what is your gender?'].value_counts().reset_index()\n",
    "\n",
    "gender_counts.columns = ['Gender', 'Value']\n",
    "\n",
    "output_file_path = 'gender_frequency_tech.csv'\n",
    "gender_counts.to_csv(output_file_path, index=False)\n",
    "\n",
    "# Output the path where the file is saved\n",
    "output_file_path"
   ]
  },
  {
   "cell_type": "markdown",
   "metadata": {},
   "source": [
    "Produce data for AGE-BAR"
   ]
  },
  {
   "cell_type": "code",
   "execution_count": 12,
   "metadata": {},
   "outputs": [
    {
     "data": {
      "text/plain": [
       "'age_gender_tech.csv'"
      ]
     },
     "execution_count": 12,
     "metadata": {},
     "output_type": "execute_result"
    }
   ],
   "source": [
    "# Load the dataset\n",
    "data = pd.read_csv('./Data/cleaned_data.csv')\n",
    "data.rename(columns={'what is your age?': 'Age'}, inplace=True)\n",
    "\n",
    "tech_data = data[data[\"is your employer primarily a tech company/organization?\"] == 1]\n",
    "\n",
    "# Function to group ages\n",
    "def group_age(age):\n",
    "    if age <= 20:\n",
    "        return \"0-20\"\n",
    "    elif age <= 30:\n",
    "        return \"21-30\"\n",
    "    elif age <= 40:\n",
    "        return \"31-40\"\n",
    "    elif age <= 50:\n",
    "        return \"41-50\"\n",
    "    elif age <= 60:\n",
    "        return \"51-60\"\n",
    "    elif age <= 70:\n",
    "        return \"61-70\"\n",
    "    elif age <= 80:\n",
    "        return \"71-80\"\n",
    "    elif age <= 90:\n",
    "        return \"81-90\"\n",
    "    else:\n",
    "        return \"91-100\"\n",
    "\n",
    "# Group by age and count frequency for each gender within each age group\n",
    "age_grouped = tech_data.groupby(['Age', 'what is your gender?']).size().unstack(fill_value=0)\n",
    "\n",
    "# Map the 'what is your age?' using the 'group_age' function\n",
    "age_grouped.index = age_grouped.index.map(group_age)\n",
    "\n",
    "# Combine rows by the new age groups\n",
    "age_grouped = age_grouped.groupby(level=0).sum()\n",
    "\n",
    "# Rename the columns as required\n",
    "age_grouped.columns = ['Male', 'Female', 'Non-Binary']\n",
    "\n",
    "# Reset the index to turn the age groups into a column\n",
    "age_grouped.reset_index(inplace=True)\n",
    "\n",
    "# Save the result to a new CSV file\n",
    "output_file_path = 'age_gender_tech.csv'\n",
    "age_grouped.to_csv(output_file_path, index=False)\n",
    "\n",
    "output_file_path\n"
   ]
  },
  {
   "cell_type": "markdown",
   "metadata": {},
   "source": [
    "Produce data for CURRENT MENTAL HEALTH IN TECH"
   ]
  },
  {
   "cell_type": "code",
   "execution_count": 6,
   "metadata": {},
   "outputs": [
    {
     "name": "stderr",
     "output_type": "stream",
     "text": [
      "/var/folders/wj/2g7sdmm15x9g0fx83cczwbr00000gn/T/ipykernel_82625/31917450.py:19: FutureWarning: Dropping of nuisance columns in DataFrame reductions (with 'numeric_only=None') is deprecated; in a future version this will raise TypeError.  Select only valid columns before calling the reduction.\n",
      "  country_mental_health['Total'] = country_mental_health.sum(axis=1)\n"
     ]
    },
    {
     "data": {
      "text/plain": [
       "'current_mental_health.csv'"
      ]
     },
     "execution_count": 6,
     "metadata": {},
     "output_type": "execute_result"
    }
   ],
   "source": [
    "data = pd.read_csv('./Data/cleaned_data.csv')\n",
    "\n",
    "# Filter out respondents that are not from tech companies\n",
    "tech_data = data[data[\"is your employer primarily a tech company/organization?\"] == 1]\n",
    "\n",
    "country_mental_health = tech_data.groupby(['what country do you work in?', 'do you currently have a mental health disorder?']).size().unstack(fill_value=0)\n",
    "\n",
    "for response in ['Yes', 'No']:\n",
    "    if response not in country_mental_health.columns:\n",
    "        country_mental_health[response] = 0\n",
    "\n",
    "# Rename index to 'Country'\n",
    "country_mental_health.index.rename('Country', inplace=True)\n",
    "\n",
    "# Reset index to turn the 'Country' index into a column\n",
    "country_mental_health.reset_index(inplace=True)\n",
    "\n",
    "# Calculate the total frequency for each country and sort by this total\n",
    "country_mental_health['Total'] = country_mental_health.sum(axis=1)\n",
    "sorted_country_mental_health = country_mental_health.sort_values(by='Total', ascending=False)\n",
    "\n",
    "# Take the top 10 countries based on total frequency\n",
    "top_countries = sorted_country_mental_health.head(6)\n",
    "\n",
    "# Select only the desired columns to match the specified format\n",
    "top_countries = top_countries[['Country', 'Yes', 'No']]\n",
    "\n",
    "# Save the result to a CSV file\n",
    "output_filename = 'current_mental_health.csv'\n",
    "top_countries.to_csv(output_filename, index=False)\n",
    "\n",
    "output_filename"
   ]
  },
  {
   "cell_type": "markdown",
   "metadata": {},
   "source": [
    "Produce data for PAST MENTAL HEALTH IN TECH"
   ]
  },
  {
   "cell_type": "code",
   "execution_count": 3,
   "metadata": {},
   "outputs": [
    {
     "name": "stderr",
     "output_type": "stream",
     "text": [
      "/var/folders/wj/2g7sdmm15x9g0fx83cczwbr00000gn/T/ipykernel_84430/2421972952.py:19: FutureWarning: Dropping of nuisance columns in DataFrame reductions (with 'numeric_only=None') is deprecated; in a future version this will raise TypeError.  Select only valid columns before calling the reduction.\n",
      "  country_mental_health['Total'] = country_mental_health.sum(axis=1)\n"
     ]
    },
    {
     "data": {
      "text/plain": [
       "'past_mental_health.csv'"
      ]
     },
     "execution_count": 3,
     "metadata": {},
     "output_type": "execute_result"
    }
   ],
   "source": [
    "data = pd.read_csv('./Data/cleaned_data.csv')\n",
    "\n",
    "# Filter out respondents that are not from tech companies\n",
    "tech_data = data[data[\"is your employer primarily a tech company/organization?\"] == 1]\n",
    "\n",
    "country_mental_health = tech_data.groupby(['what country do you work in?', 'have you had a mental health disorder in the past?']).size().unstack(fill_value=0)\n",
    "\n",
    "for response in ['Yes', 'No']:\n",
    "    if response not in country_mental_health.columns:\n",
    "        country_mental_health[response] = 0\n",
    "\n",
    "# Rename index to 'Country'\n",
    "country_mental_health.index.rename('Country', inplace=True)\n",
    "\n",
    "# Reset index to turn the 'Country' index into a column\n",
    "country_mental_health.reset_index(inplace=True)\n",
    "\n",
    "# Calculate the total frequency for each country and sort by this total\n",
    "country_mental_health['Total'] = country_mental_health.sum(axis=1)\n",
    "sorted_country_mental_health = country_mental_health.sort_values(by='Total', ascending=False)\n",
    "\n",
    "# Take the top 10 countries based on total frequency\n",
    "top_countries = sorted_country_mental_health.head(6)\n",
    "\n",
    "# Select only the desired columns to match the specified format\n",
    "top_countries = top_countries[['Country', 'Yes', 'No']]\n",
    "\n",
    "# Save the result to a CSV file\n",
    "output_filename = 'past_mental_health.csv'\n",
    "top_countries.to_csv(output_filename, index=False)\n",
    "\n",
    "output_filename"
   ]
  },
  {
   "cell_type": "markdown",
   "metadata": {},
   "source": [
    "data for CURRENT MENTAL HEALTH IN TECH (Pie Chart)"
   ]
  },
  {
   "cell_type": "code",
   "execution_count": 5,
   "metadata": {},
   "outputs": [],
   "source": [
    "data = pd.read_csv('./Data/cleaned_data.csv')\n",
    "\n",
    "# Calculate the frequency of responses to the mental health question\n",
    "mental_health_counts = data[\"do you currently have a mental health disorder?\"].value_counts()\n",
    "\n",
    "# Prepare the data in the desired format\n",
    "output_data = {\n",
    "    'Yes': mental_health_counts.get('Yes', 0),\n",
    "    'No': mental_health_counts.get('No', 0)\n",
    "}\n",
    "\n",
    "# Convert to DataFrame\n",
    "output_df = pd.DataFrame([output_data])\n",
    "\n",
    "# Save to CSV\n",
    "output_df.to_csv('mental_health_current_counts.csv', index=False)"
   ]
  },
  {
   "cell_type": "markdown",
   "metadata": {},
   "source": [
    "data for PAST MENTAL HEALTH IN TECH (Pie Chart)"
   ]
  },
  {
   "cell_type": "code",
   "execution_count": null,
   "metadata": {},
   "outputs": [],
   "source": [
    "data = pd.read_csv('./Data/cleaned_data.csv')\n",
    "\n",
    "# Calculate the frequency of responses to the mental health question\n",
    "mental_health_counts = data[\"have you had a mental health disorder in the past?\"].value_counts()\n",
    "\n",
    "# Prepare the data in the desired format\n",
    "output_data = {\n",
    "    'Yes': mental_health_counts.get('Yes', 0),\n",
    "    'No': mental_health_counts.get('No', 0)\n",
    "}\n",
    "\n",
    "# Convert to DataFrame\n",
    "output_df = pd.DataFrame([output_data])\n",
    "\n",
    "# Save to CSV\n",
    "output_df.to_csv('mental_health_past_counts.csv', index=False)"
   ]
  }
 ],
 "metadata": {
  "kernelspec": {
   "display_name": "Python 3.9 (tensorflow)",
   "language": "python",
   "name": "tensorflow"
  },
  "language_info": {
   "codemirror_mode": {
    "name": "ipython",
    "version": 3
   },
   "file_extension": ".py",
   "mimetype": "text/x-python",
   "name": "python",
   "nbconvert_exporter": "python",
   "pygments_lexer": "ipython3",
   "version": "3.10.13"
  }
 },
 "nbformat": 4,
 "nbformat_minor": 2
}
